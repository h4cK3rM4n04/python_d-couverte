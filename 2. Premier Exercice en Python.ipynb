{
 "cells": [
  {
   "cell_type": "markdown",
   "metadata": {},
   "source": [
    "<div class = \"alert alert-warning\" align=\"center\"> \n",
    "    <img src=\"https://www.egd.mg/wp-content/uploads/2020/01/cropped-logo-home-110px.png\" align=\"left\" width=\"290\"  margin=\"50px\"> \n",
    "    <center><h1>Lycée français de Tananarive</h1> \n",
    "        <h2> Jupyter Hub,  Spécialité NSI </h2></center>\n",
    "</div>"
   ]
  },
  {
   "cell_type": "markdown",
   "metadata": {
    "deletable": false,
    "editable": false,
    "nbgrader": {
     "cell_type": "markdown",
     "checksum": "f2e4a439258557fd270f536b5610ece1",
     "grade": false,
     "grade_id": "cell-25119cbf2fb56d82",
     "locked": true,
     "schema_version": 3,
     "solution": false
    }
   },
   "source": [
    "# Premier exercice en python\n",
    "Vous allez avec ce NoteBook prendre connaissance sur un exercice très simple de la procédure à suivre pour rendre les exercices demandés.\n",
    "Cette procédure sera toujours décrite dans la cellule d'en-tête, ci-dessus mais voyons la ici en détail.\n",
    "Il faut toujours être attentif à l'ordre d'éxécution des cellules."
   ]
  },
  {
   "cell_type": "markdown",
   "metadata": {
    "deletable": false,
    "editable": false,
    "nbgrader": {
     "cell_type": "markdown",
     "checksum": "061fc8b0bf79294271a8261f2f7c8764",
     "grade": false,
     "grade_id": "cell-c64773bae9cc255f",
     "locked": true,
     "schema_version": 3,
     "solution": false
    }
   },
   "source": [
    "## 1. Texte de l'exercice, et problème à résoudre.\n",
    "Ecrire une fonction <code>racine(n)</code> qui renvoie la racine carré d'un nombre positif ou nul, et qui renvoie <code>None</code> sinon. On doit donc avoir $racine(n) = \\sqrt n$\n",
    "Vous allez donc devoir effacer :\n",
    "\n",
    "<code># YOUR CODE HERE\n",
    "raise NotImplementedError()</code>\n",
    "\n",
    "et le remplacer par votre propre code."
   ]
  },
  {
   "cell_type": "code",
   "execution_count": 15,
   "metadata": {
    "deletable": false,
    "nbgrader": {
     "cell_type": "code",
     "checksum": "61ed64b7ac28ccdcf1ea256552e912da",
     "grade": false,
     "grade_id": "cell-99519086d872aa9d",
     "locked": false,
     "schema_version": 3,
     "solution": true
    }
   },
   "outputs": [
    {
     "name": "stdout",
     "output_type": "stream",
     "text": [
      "La racine carré d'un nombre négatif n'existe pas.\n"
     ]
    }
   ],
   "source": [
    "from math import sqrt\n",
    "def racine(n) :\n",
    "    if n>=0 :\n",
    "        return sqrt(n)\n",
    "    else : \n",
    "        print (\"La racine carré d'un nombre négatif n'existe pas.\")\n",
    "racine(-16)"
   ]
  },
  {
   "cell_type": "markdown",
   "metadata": {
    "deletable": false,
    "editable": false,
    "nbgrader": {
     "cell_type": "markdown",
     "checksum": "e2998245431f19a5d27e7a1cdd332996",
     "grade": false,
     "grade_id": "cell-287fce71a0892248",
     "locked": true,
     "schema_version": 3,
     "solution": false
    }
   },
   "source": [
    "## 2. Tests Unitaires et Jeu d'essai\n",
    "Pour vérifier que votre fonction est correctement écrite, nous allons lui faire passer maintenant un jeu de tests. Certains de ces tests sont visibles, mais attention certains sont cachés et visible uniquement par l'enseignant.\n",
    "Généralement ce sont ces tests qui vont vous rapporter des points si l'exercice est noté.\n",
    "**Pour vérifier que tout va bien, la cellule ci-dessous doit s'éxécuter sans générer d'erreurs.**"
   ]
  },
  {
   "cell_type": "code",
   "execution_count": 16,
   "metadata": {
    "deletable": false,
    "editable": false,
    "nbgrader": {
     "cell_type": "code",
     "checksum": "9ca3098b7cce5810f8eaf48da4628610",
     "grade": true,
     "grade_id": "cell-24378c4e9822da56",
     "locked": true,
     "points": 2,
     "schema_version": 3,
     "solution": false
    }
   },
   "outputs": [
    {
     "name": "stdout",
     "output_type": "stream",
     "text": [
      "La racine carré d'un nombre négatif n'existe pas.\n"
     ]
    }
   ],
   "source": [
    "assert racine(4) == 2\n",
    "assert racine(-2) == None"
   ]
  },
  {
   "cell_type": "markdown",
   "metadata": {
    "deletable": false,
    "editable": false,
    "nbgrader": {
     "cell_type": "markdown",
     "checksum": "477a3cb8a9c49afce831360892c11529",
     "grade": false,
     "grade_id": "cell-d8b240c1ea84615a",
     "locked": true,
     "schema_version": 3,
     "solution": false
    }
   },
   "source": [
    "## 3. Soumettre votre exercice\n",
    "Une fois votre exercice terminé, dans l'ideal votre fonction a réussi à passer tous les tests, en tout cas au moins les test visibles.\n",
    "Il ne vous reste plus qu'à soumettre votre travail :\n",
    "1. Pensez à enregistrer votre NoteBook et revenez sur la page de gestions de fichier (**icône Jupyter**)\n",
    "2. Cliquez sur l'ongler <code>Assignements</code>.\n",
    "3. Cliquer sur le bouton <code>Submit</code>.\n",
    "4. Votre fichier est envoyé pour évaluation à votre professeur.\n",
    "\n",
    "Remarque : Vous pouvez envoyer plusieurs <code>Submit</code> mais attention seul le dernier sera évalué, à condition qu'il soit envoyé dans les délais imposés par l'exercice."
   ]
  },
  {
   "cell_type": "markdown",
   "metadata": {
    "deletable": false,
    "editable": false,
    "nbgrader": {
     "cell_type": "markdown",
     "checksum": "87977875c25ae34ae72727891e03f3a8",
     "grade": false,
     "grade_id": "cell-6109847b6e7d28a6",
     "locked": true,
     "schema_version": 3,
     "solution": false,
     "task": false
    }
   },
   "source": [
    "<div class=\"alert alert-warning\" align=\"center\">\n",
    "    <b>Equipe pédagoqique LFT-NSI</b>\n",
    "<br/>ressource éducative libre distribuée sous <a href=\"http://creativecommons.org/licenses/by-nc-sa/4.0/\"!>Licence Creative Commons Attribution</a>\n",
    "    <img src=\"https://i.creativecommons.org/l/by-nc-sa/4.0/88x31.png\" align=\"center\" width=\"70\"  margin=\"50px\"> \n",
    "</div>"
   ]
  }
 ],
 "metadata": {
  "kernelspec": {
   "display_name": "Python 3",
   "language": "python",
   "name": "python3"
  },
  "language_info": {
   "codemirror_mode": {
    "name": "ipython",
    "version": 3
   },
   "file_extension": ".py",
   "mimetype": "text/x-python",
   "name": "python",
   "nbconvert_exporter": "python",
   "pygments_lexer": "ipython3",
   "version": "3.6.9"
  },
  "latex_envs": {
   "LaTeX_envs_menu_present": true,
   "autoclose": false,
   "autocomplete": true,
   "bibliofile": "biblio.bib",
   "cite_by": "apalike",
   "current_citInitial": 1,
   "eqLabelWithNumbers": true,
   "eqNumInitial": 1,
   "hotkeys": {
    "equation": "Ctrl-E",
    "itemize": "Ctrl-I"
   },
   "labels_anchors": false,
   "latex_user_defs": false,
   "report_style_numbering": false,
   "user_envs_cfg": false
  }
 },
 "nbformat": 4,
 "nbformat_minor": 2
}
